{
  "nbformat": 4,
  "nbformat_minor": 0,
  "metadata": {
    "colab": {
      "name": "Tarefa006.ipynb",
      "provenance": [],
      "authorship_tag": "ABX9TyNX4POniJS+75f+VATmO7uf",
      "include_colab_link": true
    },
    "kernelspec": {
      "name": "python3",
      "display_name": "Python 3"
    },
    "language_info": {
      "name": "python"
    }
  },
  "cells": [
    {
      "cell_type": "markdown",
      "metadata": {
        "id": "view-in-github",
        "colab_type": "text"
      },
      "source": [
        "<a href=\"https://colab.research.google.com/github/adrielmori/cs-2022-1/blob/main/tarefa006/Tarefa006.ipynb\" target=\"_parent\"><img src=\"https://colab.research.google.com/assets/colab-badge.svg\" alt=\"Open In Colab\"/></a>"
      ]
    },
    {
      "cell_type": "markdown",
      "source": [
        "## Questão 01\n",
        "\n",
        "- Implementar programa que leia a idade de uma pessoa expressa em anos, meses e dias e mostre-a expressa em dias. Leve em consideração o ano com 365 dias e o mês com 30."
      ],
      "metadata": {
        "id": "Bp7ppnCLH9qk"
      }
    },
    {
      "cell_type": "code",
      "execution_count": 24,
      "metadata": {
        "colab": {
          "base_uri": "https://localhost:8080/"
        },
        "id": "C9ZT2uKSHoGi",
        "outputId": "0c93c16a-29fe-4bde-b145-c3bd1db4a16f"
      },
      "outputs": [
        {
          "output_type": "stream",
          "name": "stdout",
          "text": [
            "Age in years: 23\n",
            "Month: 23\n",
            "Day: 14\n",
            "-------------------\n",
            "Total days of lige: 9099\n"
          ]
        }
      ],
      "source": [
        "yaer = int (input('Age in years: '))\n",
        "month = int (input('Month: '))\n",
        "day = int (input('Day: '))\n",
        "\n",
        "daysTotal = yaer*365 + month*30 + day\n",
        "\n",
        "print('-------------------\\nTotal days of lige: %i' % (daysTotal))"
      ]
    },
    {
      "cell_type": "markdown",
      "source": [
        "## Questão 02\n",
        "\n",
        "- Programa que imprima a média aritmética dos números 8,9 e 7. A média dos números 4, 5 e 6.A soma das duas médias. A média das médias."
      ],
      "metadata": {
        "id": "itiqDnuELW2M"
      }
    },
    {
      "cell_type": "code",
      "source": [
        "result,result2 = float((8+9+7)/3), float((4+5+6)/3)\n",
        "\n",
        "result_sum = float(result+result2)\n",
        "arithmetic_result = float((result+result2)/2)\n",
        "\n",
        "print('{}\\n{}\\n{}\\n{}'.format(result,result2,result_sum, arithmetic_result))"
      ],
      "metadata": {
        "colab": {
          "base_uri": "https://localhost:8080/"
        },
        "id": "wZ41ammiLWZs",
        "outputId": "e998a3a8-64f7-41b9-e434-aa38e4f0c625"
      },
      "execution_count": 25,
      "outputs": [
        {
          "output_type": "stream",
          "name": "stdout",
          "text": [
            "8.0\n",
            "5.0\n",
            "13.0\n",
            "6.5\n"
          ]
        }
      ]
    },
    {
      "cell_type": "markdown",
      "source": [
        "##Questão 03\n",
        "\n",
        "- Leia o valor de um saldo e imprima-o com reajuste de 15%."
      ],
      "metadata": {
        "id": "s5fxFli6NIz-"
      }
    },
    {
      "cell_type": "code",
      "source": [
        "value = float(input('Report a value: '))\n",
        "value = value * 1.15\n",
        "\n",
        "print(value)"
      ],
      "metadata": {
        "colab": {
          "base_uri": "https://localhost:8080/"
        },
        "id": "Y5dZFYaUNICV",
        "outputId": "e3aaffcf-ca18-4c12-c5ab-59c7c1718068"
      },
      "execution_count": 27,
      "outputs": [
        {
          "output_type": "stream",
          "name": "stdout",
          "text": [
            "Report a value: 23\n",
            "26.45\n"
          ]
        }
      ]
    },
    {
      "cell_type": "markdown",
      "source": [
        "##Questão 4\n",
        "\n",
        "  *  porcentagem do IPI a ser acrescido no valor das peças;\n",
        "  * o código da peça 1,\n",
        "  * valor unitário da peça 1,\n",
        "  * quantidade de peças 1\n",
        "  * o código da peça 2,\n",
        "  * valor unitário da peça 2,\n",
        "  * quantidade de peças 2\n",
        "\n",
        "O programa deve calcular o valor total a ser pago e apresentar o resultado."
      ],
      "metadata": {
        "id": "GNCR3aNJODZQ"
      }
    },
    {
      "cell_type": "code",
      "source": [
        "ipi = float(input('IPI: '))\n",
        "cod_piece2 = int(input('Piece 1 code: '))\n",
        "unit_piece1 = float(input('Unit price of Piece 1: '))\n",
        "n_piece1 = int(input('Piece 1 quantity: '))\n",
        "cod_piece2 = int(input('Piece 2 code: '))\n",
        "unit_piece2 = float(input('Unit price of Piece 2: '))\n",
        "n_piece2 = int(input('Piece 2 quantity: '))\n",
        "\n",
        "total_value = (unit_piece1*n_piece1)+(unit_piece2*n_piece2)*((ipi/100)+1)\n",
        "print('Total: R${}'.format(total_value))"
      ],
      "metadata": {
        "colab": {
          "base_uri": "https://localhost:8080/"
        },
        "id": "5orfrsD8ORvv",
        "outputId": "5f9ea36c-88f0-4b86-a79e-f728c3508a22"
      },
      "execution_count": 28,
      "outputs": [
        {
          "output_type": "stream",
          "name": "stdout",
          "text": [
            "IPI: 50\n",
            "Piece 1 code: 1\n",
            "Unit price of Piece 1: 30\n",
            "Piece 1 quantity: 12\n",
            "Piece 2 code: 2\n",
            "Unit price of Piece 2: 50\n",
            "Piece 2 quantity: 3\n",
            "Total: R$585.0\n"
          ]
        }
      ]
    },
    {
      "cell_type": "markdown",
      "source": [
        "##Questão 5\n",
        "\n",
        "* leia o valor do salário mínimo e o valor do salário de um usuário;\n",
        "* calcule a quantidade de salários mínimos esse usuário ganha e imprima o resultado. (1SM=R$1.045,00)."
      ],
      "metadata": {
        "id": "r_N4O7j4P-QW"
      }
    },
    {
      "cell_type": "code",
      "source": [
        "salary = float(input('Your Salary: '))\n",
        "\n",
        "minimum_wage= 1045.00\n",
        "n_salary = int(salary/minimum_wage)\n",
        "\n",
        "print('Amount of minimum wages: {}' .format(n_salary))"
      ],
      "metadata": {
        "colab": {
          "base_uri": "https://localhost:8080/"
        },
        "id": "FVc9QmRAQGc-",
        "outputId": "4bab7642-9efd-4f21-82c7-e538cec5756b"
      },
      "execution_count": 33,
      "outputs": [
        {
          "output_type": "stream",
          "name": "stdout",
          "text": [
            "Your Salary: 700\n",
            "Amount of minimum wages: 0\n"
          ]
        }
      ]
    },
    {
      "cell_type": "markdown",
      "source": [
        "##Questão 6\n",
        "\n",
        "* leia um número inteiro\n",
        "* e imprima o seu antecessor e seu sucessor."
      ],
      "metadata": {
        "id": "rMZqf6l1RaV4"
      }
    },
    {
      "cell_type": "code",
      "source": [
        "num = int(input('Integer number: '))\n",
        "\n",
        "print('{}\\n{}\\n{}'.format(num, num-1,num+1))"
      ],
      "metadata": {
        "colab": {
          "base_uri": "https://localhost:8080/"
        },
        "id": "HHlHXm0QRZsS",
        "outputId": "45f5ada2-28d7-4b06-caef-01a456aea544"
      },
      "execution_count": 34,
      "outputs": [
        {
          "output_type": "stream",
          "name": "stdout",
          "text": [
            "Integer number: 8\n",
            "8\n",
            "7\n",
            "9\n"
          ]
        }
      ]
    }
  ]
}